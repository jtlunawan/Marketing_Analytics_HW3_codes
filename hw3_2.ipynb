{
 "cells": [
  {
   "cell_type": "markdown",
   "metadata": {},
   "source": [
    "# Assignment 3"
   ]
  },
  {
   "cell_type": "markdown",
   "metadata": {},
   "source": [
    "## Test 3 methods for allocation"
   ]
  },
  {
   "cell_type": "markdown",
   "metadata": {},
   "source": [
    "### Import necessary packages"
   ]
  },
  {
   "cell_type": "code",
   "execution_count": 1,
   "metadata": {
    "ExecuteTime": {
     "end_time": "2020-11-23T14:00:26.183464Z",
     "start_time": "2020-11-23T14:00:24.486958Z"
    }
   },
   "outputs": [],
   "source": [
    "import pandas as pd\n",
    "import os\n",
    "import ast\n",
    "import numpy as np"
   ]
  },
  {
   "cell_type": "code",
   "execution_count": 2,
   "metadata": {
    "ExecuteTime": {
     "end_time": "2020-11-23T14:00:26.200443Z",
     "start_time": "2020-11-23T14:00:26.192442Z"
    }
   },
   "outputs": [],
   "source": [
    "def tier(row_num,name):\n",
    "    each_dict_str=channel_spend.iloc[row_num,1]\n",
    "    each_dict_dict=ast.literal_eval(each_dict_str)\n",
    "    result=pd.Series(each_dict_dict,name=name)\n",
    "    return result\n",
    "\n",
    "# find the last interaction\n",
    "def get_last_ele(x):  \n",
    "    if x.last_valid_index() is np.nan:  # 一行中全为NaN\n",
    "        return np.nan\n",
    "    else:\n",
    "        return x[x.last_valid_index()]\n",
    "\n",
    "# Use recursion to find last non-direct clisk\n",
    "def last_NDC(x,col_num):\n",
    "    if x[col_num] is np.nan or x[col_num] == 'direct':  # 一行中全为NaN\n",
    "        return last_NDC(x,col_num-1)\n",
    "    else:\n",
    "        return x[col_num]"
   ]
  },
  {
   "cell_type": "markdown",
   "metadata": {},
   "source": [
    "### load and clean the data"
   ]
  },
  {
   "cell_type": "code",
   "execution_count": 3,
   "metadata": {
    "ExecuteTime": {
     "end_time": "2020-11-23T14:00:26.279242Z",
     "start_time": "2020-11-23T14:00:26.212389Z"
    }
   },
   "outputs": [],
   "source": [
    "# load data\n",
    "# channel_spend\n",
    "#os.chdir(r'D:\\桌面的文件夹\\读书\\NYU\\Marketing Analytics\\Homework\\HW3')\n",
    "channel_spend = pd.read_csv('channel_spend_student_data.csv')\n",
    "tier1=tier(0,'tier1')\n",
    "tier2=tier(1,'tier2')\n",
    "tier3=tier(2,'tier3')\n",
    "channel_spend=pd.DataFrame([tier1,tier2,tier3])\n",
    "\n",
    "attribution_allocation=pd.read_csv('attribution_allocation_student_data.csv')\n",
    "attribution_allocation=attribution_allocation[attribution_allocation['convert_TF']==True]"
   ]
  },
  {
   "cell_type": "markdown",
   "metadata": {},
   "source": [
    "### methods for allocation\n",
    "• Last interaction\n",
    "\n",
    "• Last non-direct interaction\n",
    "\n",
    "• First interaction\n",
    "\n",
    "• Linear\n",
    "\n",
    "• Position Based\n",
    "\n",
    "• Time Decay\n",
    "\n",
    "• Data-driven (Google Analytics)\n",
    "\n",
    "\n",
    "In this assignment, We would use the following 3 methods:\n",
    "\n",
    "1. Last interaction\n",
    "\n",
    "2. First interaction\n",
    "\n",
    "3. Last Non-direct Click"
   ]
  },
  {
   "cell_type": "markdown",
   "metadata": {},
   "source": [
    "### Method 1: Last interaction\n",
    "this model uses the last touch as the channel, so we would like to first define a function that extract the the last non-NaN touch column, and then apply it to the whole dataset."
   ]
  },
  {
   "cell_type": "markdown",
   "metadata": {},
   "source": [
    "### Method 2: First interaction\n",
    "because in the previous step, we have examined that there is no missing values in the column \"touch1\", so we could conveniently use the first column as the first interaction channel."
   ]
  },
  {
   "cell_type": "markdown",
   "metadata": {},
   "source": [
    "### Method 3: Last Non-direct Model\n",
    "We choose this model because we think the last non-direct model is just as different as the last interaction model, since many customers would not directly pay when they see the ads or when referred by others; instead, these pieces of ads or information would remain in their memories so that whenever they need the products, those ads or information would jump out from their minds immediately. Therefore, we should focus on this model and try to strengthen the effectiveness of the last non-direct interaction. "
   ]
  },
  {
   "cell_type": "markdown",
   "metadata": {},
   "source": [
    "### create the columns to attribute"
   ]
  },
  {
   "cell_type": "code",
   "execution_count": 4,
   "metadata": {
    "ExecuteTime": {
     "end_time": "2020-11-23T14:00:27.819710Z",
     "start_time": "2020-11-23T14:00:26.367393Z"
    }
   },
   "outputs": [],
   "source": [
    "# last interaction\n",
    "attribution_allocation['Last_Interaction']= attribution_allocation.iloc[:,1:6].apply(get_last_ele, axis=1)\n",
    "# first interaction\n",
    "attribution_allocation['First_Interaction']= attribution_allocation.touch1\n",
    "# last non-direct click\n",
    "attribution_allocation['Last_Non-Direct_Click']= attribution_allocation.apply(last_NDC, axis=1,args=(5,))"
   ]
  },
  {
   "cell_type": "markdown",
   "metadata": {},
   "source": [
    "### make pivot_table"
   ]
  },
  {
   "cell_type": "code",
   "execution_count": 5,
   "metadata": {
    "ExecuteTime": {
     "end_time": "2020-11-23T14:00:27.880292Z",
     "start_time": "2020-11-23T14:00:27.849658Z"
    }
   },
   "outputs": [],
   "source": [
    "# last interaction\n",
    "last_interaction = pd.pivot_table(attribution_allocation,values='convert_TF',index=['tier'],columns=['Last_Interaction'],aggfunc=np.sum)\n",
    "last_interaction.columns.name = None\n",
    "# first interaction\n",
    "first_interaction = pd.pivot_table(attribution_allocation,values='convert_TF',index=['tier'],columns=['First_Interaction'],aggfunc=np.sum)\n",
    "first_interaction.columns.name = None\n",
    "# last non-direct click\n",
    "last_non_direct_click = pd.pivot_table(attribution_allocation,values='convert_TF',index=['tier'],columns=['Last_Non-Direct_Click'],aggfunc=np.sum).iloc[:,1:]\n",
    "last_non_direct_click.columns.name = None"
   ]
  },
  {
   "cell_type": "markdown",
   "metadata": {},
   "source": [
    "### outcomes"
   ]
  },
  {
   "cell_type": "code",
   "execution_count": 6,
   "metadata": {
    "ExecuteTime": {
     "end_time": "2020-11-23T14:00:29.568786Z",
     "start_time": "2020-11-23T14:00:29.553798Z"
    }
   },
   "outputs": [
    {
     "data": {
      "text/html": [
       "<div>\n",
       "<style scoped>\n",
       "    .dataframe tbody tr th:only-of-type {\n",
       "        vertical-align: middle;\n",
       "    }\n",
       "\n",
       "    .dataframe tbody tr th {\n",
       "        vertical-align: top;\n",
       "    }\n",
       "\n",
       "    .dataframe thead th {\n",
       "        text-align: right;\n",
       "    }\n",
       "</style>\n",
       "<table border=\"1\" class=\"dataframe\">\n",
       "  <thead>\n",
       "    <tr style=\"text-align: right;\">\n",
       "      <th></th>\n",
       "      <th>direct</th>\n",
       "      <th>display</th>\n",
       "      <th>email</th>\n",
       "      <th>organic_search</th>\n",
       "      <th>paid_search</th>\n",
       "      <th>referral</th>\n",
       "      <th>social</th>\n",
       "    </tr>\n",
       "    <tr>\n",
       "      <th>tier</th>\n",
       "      <th></th>\n",
       "      <th></th>\n",
       "      <th></th>\n",
       "      <th></th>\n",
       "      <th></th>\n",
       "      <th></th>\n",
       "      <th></th>\n",
       "    </tr>\n",
       "  </thead>\n",
       "  <tbody>\n",
       "    <tr>\n",
       "      <th>1</th>\n",
       "      <td>3.0</td>\n",
       "      <td>531.0</td>\n",
       "      <td>299.0</td>\n",
       "      <td>2.0</td>\n",
       "      <td>180.0</td>\n",
       "      <td>1187.0</td>\n",
       "      <td>622.0</td>\n",
       "    </tr>\n",
       "    <tr>\n",
       "      <th>2</th>\n",
       "      <td>NaN</td>\n",
       "      <td>824.0</td>\n",
       "      <td>532.0</td>\n",
       "      <td>3.0</td>\n",
       "      <td>340.0</td>\n",
       "      <td>2124.0</td>\n",
       "      <td>1069.0</td>\n",
       "    </tr>\n",
       "    <tr>\n",
       "      <th>3</th>\n",
       "      <td>3.0</td>\n",
       "      <td>959.0</td>\n",
       "      <td>686.0</td>\n",
       "      <td>5.0</td>\n",
       "      <td>484.0</td>\n",
       "      <td>2670.0</td>\n",
       "      <td>1256.0</td>\n",
       "    </tr>\n",
       "  </tbody>\n",
       "</table>\n",
       "</div>"
      ],
      "text/plain": [
       "      direct  display  email  organic_search  paid_search  referral  social\n",
       "tier                                                                       \n",
       "1        3.0    531.0  299.0             2.0        180.0    1187.0   622.0\n",
       "2        NaN    824.0  532.0             3.0        340.0    2124.0  1069.0\n",
       "3        3.0    959.0  686.0             5.0        484.0    2670.0  1256.0"
      ]
     },
     "execution_count": 6,
     "metadata": {},
     "output_type": "execute_result"
    }
   ],
   "source": [
    "last_interaction"
   ]
  },
  {
   "cell_type": "code",
   "execution_count": 7,
   "metadata": {
    "ExecuteTime": {
     "end_time": "2020-11-23T14:00:30.220836Z",
     "start_time": "2020-11-23T14:00:30.212856Z"
    }
   },
   "outputs": [
    {
     "data": {
      "text/html": [
       "<div>\n",
       "<style scoped>\n",
       "    .dataframe tbody tr th:only-of-type {\n",
       "        vertical-align: middle;\n",
       "    }\n",
       "\n",
       "    .dataframe tbody tr th {\n",
       "        vertical-align: top;\n",
       "    }\n",
       "\n",
       "    .dataframe thead th {\n",
       "        text-align: right;\n",
       "    }\n",
       "</style>\n",
       "<table border=\"1\" class=\"dataframe\">\n",
       "  <thead>\n",
       "    <tr style=\"text-align: right;\">\n",
       "      <th></th>\n",
       "      <th>direct</th>\n",
       "      <th>display</th>\n",
       "      <th>email</th>\n",
       "      <th>organic_search</th>\n",
       "      <th>paid_search</th>\n",
       "      <th>referral</th>\n",
       "      <th>social</th>\n",
       "    </tr>\n",
       "    <tr>\n",
       "      <th>tier</th>\n",
       "      <th></th>\n",
       "      <th></th>\n",
       "      <th></th>\n",
       "      <th></th>\n",
       "      <th></th>\n",
       "      <th></th>\n",
       "      <th></th>\n",
       "    </tr>\n",
       "  </thead>\n",
       "  <tbody>\n",
       "    <tr>\n",
       "      <th>1</th>\n",
       "      <td>2.0</td>\n",
       "      <td>484.0</td>\n",
       "      <td>246.0</td>\n",
       "      <td>NaN</td>\n",
       "      <td>128.0</td>\n",
       "      <td>1493.0</td>\n",
       "      <td>471.0</td>\n",
       "    </tr>\n",
       "    <tr>\n",
       "      <th>2</th>\n",
       "      <td>3.0</td>\n",
       "      <td>735.0</td>\n",
       "      <td>430.0</td>\n",
       "      <td>5.0</td>\n",
       "      <td>247.0</td>\n",
       "      <td>2674.0</td>\n",
       "      <td>798.0</td>\n",
       "    </tr>\n",
       "    <tr>\n",
       "      <th>3</th>\n",
       "      <td>6.0</td>\n",
       "      <td>840.0</td>\n",
       "      <td>589.0</td>\n",
       "      <td>5.0</td>\n",
       "      <td>322.0</td>\n",
       "      <td>3313.0</td>\n",
       "      <td>988.0</td>\n",
       "    </tr>\n",
       "  </tbody>\n",
       "</table>\n",
       "</div>"
      ],
      "text/plain": [
       "      direct  display  email  organic_search  paid_search  referral  social\n",
       "tier                                                                       \n",
       "1        2.0    484.0  246.0             NaN        128.0    1493.0   471.0\n",
       "2        3.0    735.0  430.0             5.0        247.0    2674.0   798.0\n",
       "3        6.0    840.0  589.0             5.0        322.0    3313.0   988.0"
      ]
     },
     "execution_count": 7,
     "metadata": {},
     "output_type": "execute_result"
    }
   ],
   "source": [
    "first_interaction"
   ]
  },
  {
   "cell_type": "code",
   "execution_count": 8,
   "metadata": {
    "ExecuteTime": {
     "end_time": "2020-11-23T14:00:30.542569Z",
     "start_time": "2020-11-23T14:00:30.533563Z"
    }
   },
   "outputs": [
    {
     "data": {
      "text/html": [
       "<div>\n",
       "<style scoped>\n",
       "    .dataframe tbody tr th:only-of-type {\n",
       "        vertical-align: middle;\n",
       "    }\n",
       "\n",
       "    .dataframe tbody tr th {\n",
       "        vertical-align: top;\n",
       "    }\n",
       "\n",
       "    .dataframe thead th {\n",
       "        text-align: right;\n",
       "    }\n",
       "</style>\n",
       "<table border=\"1\" class=\"dataframe\">\n",
       "  <thead>\n",
       "    <tr style=\"text-align: right;\">\n",
       "      <th></th>\n",
       "      <th>display</th>\n",
       "      <th>email</th>\n",
       "      <th>organic_search</th>\n",
       "      <th>paid_search</th>\n",
       "      <th>referral</th>\n",
       "      <th>social</th>\n",
       "    </tr>\n",
       "    <tr>\n",
       "      <th>tier</th>\n",
       "      <th></th>\n",
       "      <th></th>\n",
       "      <th></th>\n",
       "      <th></th>\n",
       "      <th></th>\n",
       "      <th></th>\n",
       "    </tr>\n",
       "  </thead>\n",
       "  <tbody>\n",
       "    <tr>\n",
       "      <th>1</th>\n",
       "      <td>531.0</td>\n",
       "      <td>299.0</td>\n",
       "      <td>2.0</td>\n",
       "      <td>180.0</td>\n",
       "      <td>1189.0</td>\n",
       "      <td>622.0</td>\n",
       "    </tr>\n",
       "    <tr>\n",
       "      <th>2</th>\n",
       "      <td>824.0</td>\n",
       "      <td>532.0</td>\n",
       "      <td>3.0</td>\n",
       "      <td>340.0</td>\n",
       "      <td>2124.0</td>\n",
       "      <td>1069.0</td>\n",
       "    </tr>\n",
       "    <tr>\n",
       "      <th>3</th>\n",
       "      <td>959.0</td>\n",
       "      <td>686.0</td>\n",
       "      <td>5.0</td>\n",
       "      <td>484.0</td>\n",
       "      <td>2671.0</td>\n",
       "      <td>1257.0</td>\n",
       "    </tr>\n",
       "  </tbody>\n",
       "</table>\n",
       "</div>"
      ],
      "text/plain": [
       "      display  email  organic_search  paid_search  referral  social\n",
       "tier                                                               \n",
       "1       531.0  299.0             2.0        180.0    1189.0   622.0\n",
       "2       824.0  532.0             3.0        340.0    2124.0  1069.0\n",
       "3       959.0  686.0             5.0        484.0    2671.0  1257.0"
      ]
     },
     "execution_count": 8,
     "metadata": {},
     "output_type": "execute_result"
    }
   ],
   "source": [
    "last_non_direct_click"
   ]
  },
  {
   "cell_type": "markdown",
   "metadata": {},
   "source": [
    "## Calculate CAC for Each Channel"
   ]
  },
  {
   "cell_type": "code",
   "execution_count": 9,
   "metadata": {
    "ExecuteTime": {
     "end_time": "2020-11-23T14:00:34.627431Z",
     "start_time": "2020-11-23T14:00:34.615465Z"
    }
   },
   "outputs": [
    {
     "data": {
      "text/html": [
       "<div>\n",
       "<style scoped>\n",
       "    .dataframe tbody tr th:only-of-type {\n",
       "        vertical-align: middle;\n",
       "    }\n",
       "\n",
       "    .dataframe tbody tr th {\n",
       "        vertical-align: top;\n",
       "    }\n",
       "\n",
       "    .dataframe thead th {\n",
       "        text-align: right;\n",
       "    }\n",
       "</style>\n",
       "<table border=\"1\" class=\"dataframe\">\n",
       "  <thead>\n",
       "    <tr style=\"text-align: right;\">\n",
       "      <th></th>\n",
       "      <th>direct</th>\n",
       "      <th>display</th>\n",
       "      <th>email</th>\n",
       "      <th>organic_search</th>\n",
       "      <th>paid_search</th>\n",
       "      <th>referral</th>\n",
       "      <th>social</th>\n",
       "    </tr>\n",
       "  </thead>\n",
       "  <tbody>\n",
       "    <tr>\n",
       "      <th>1</th>\n",
       "      <td>0.0</td>\n",
       "      <td>1000.0</td>\n",
       "      <td>1000.0</td>\n",
       "      <td>0.0</td>\n",
       "      <td>1000.0</td>\n",
       "      <td>1000.0</td>\n",
       "      <td>1000.0</td>\n",
       "    </tr>\n",
       "    <tr>\n",
       "      <th>2</th>\n",
       "      <td>0.0</td>\n",
       "      <td>2000.0</td>\n",
       "      <td>2000.0</td>\n",
       "      <td>0.0</td>\n",
       "      <td>2000.0</td>\n",
       "      <td>2000.0</td>\n",
       "      <td>2000.0</td>\n",
       "    </tr>\n",
       "    <tr>\n",
       "      <th>3</th>\n",
       "      <td>0.0</td>\n",
       "      <td>3000.0</td>\n",
       "      <td>3000.0</td>\n",
       "      <td>0.0</td>\n",
       "      <td>3000.0</td>\n",
       "      <td>3000.0</td>\n",
       "      <td>3000.0</td>\n",
       "    </tr>\n",
       "  </tbody>\n",
       "</table>\n",
       "</div>"
      ],
      "text/plain": [
       "   direct  display   email  organic_search  paid_search  referral  social\n",
       "1     0.0   1000.0  1000.0             0.0       1000.0    1000.0  1000.0\n",
       "2     0.0   2000.0  2000.0             0.0       2000.0    2000.0  2000.0\n",
       "3     0.0   3000.0  3000.0             0.0       3000.0    3000.0  3000.0"
      ]
     },
     "execution_count": 9,
     "metadata": {},
     "output_type": "execute_result"
    }
   ],
   "source": [
    "# Adjust the order of the columns and change the indexes\n",
    "channel_spend = channel_spend[['direct', 'display', 'email', 'organic_search', 'paid_search','referral', 'social']]\n",
    "channel_spend.index=[1,2,3]\n",
    "channel_spend"
   ]
  },
  {
   "cell_type": "code",
   "execution_count": 10,
   "metadata": {
    "ExecuteTime": {
     "end_time": "2020-11-23T04:27:26.945514Z",
     "start_time": "2020-11-23T04:27:26.844497Z"
    }
   },
   "outputs": [],
   "source": [
    "# last interaction\n",
    "CAC_last_interaction = channel_spend.div(last_interaction,axis=1)\n",
    "# first interaction\n",
    "CAC_first_interaction = channel_spend.div(first_interaction,axis=1)\n",
    "# last non-direct click\n",
    "CAC_last_non_direct_click = channel_spend.div(last_non_direct_click,axis=1).iloc[:,1:]"
   ]
  },
  {
   "cell_type": "markdown",
   "metadata": {},
   "source": [
    "### outcomes"
   ]
  },
  {
   "cell_type": "code",
   "execution_count": 11,
   "metadata": {
    "ExecuteTime": {
     "end_time": "2020-11-23T04:27:33.855863Z",
     "start_time": "2020-11-23T04:27:33.847911Z"
    }
   },
   "outputs": [
    {
     "data": {
      "text/html": [
       "<div>\n",
       "<style scoped>\n",
       "    .dataframe tbody tr th:only-of-type {\n",
       "        vertical-align: middle;\n",
       "    }\n",
       "\n",
       "    .dataframe tbody tr th {\n",
       "        vertical-align: top;\n",
       "    }\n",
       "\n",
       "    .dataframe thead th {\n",
       "        text-align: right;\n",
       "    }\n",
       "</style>\n",
       "<table border=\"1\" class=\"dataframe\">\n",
       "  <thead>\n",
       "    <tr style=\"text-align: right;\">\n",
       "      <th></th>\n",
       "      <th>direct</th>\n",
       "      <th>display</th>\n",
       "      <th>email</th>\n",
       "      <th>organic_search</th>\n",
       "      <th>paid_search</th>\n",
       "      <th>referral</th>\n",
       "      <th>social</th>\n",
       "    </tr>\n",
       "  </thead>\n",
       "  <tbody>\n",
       "    <tr>\n",
       "      <th>1</th>\n",
       "      <td>0.0</td>\n",
       "      <td>1.883239</td>\n",
       "      <td>3.344482</td>\n",
       "      <td>0.0</td>\n",
       "      <td>5.555556</td>\n",
       "      <td>0.842460</td>\n",
       "      <td>1.607717</td>\n",
       "    </tr>\n",
       "    <tr>\n",
       "      <th>2</th>\n",
       "      <td>NaN</td>\n",
       "      <td>2.427184</td>\n",
       "      <td>3.759398</td>\n",
       "      <td>0.0</td>\n",
       "      <td>5.882353</td>\n",
       "      <td>0.941620</td>\n",
       "      <td>1.870907</td>\n",
       "    </tr>\n",
       "    <tr>\n",
       "      <th>3</th>\n",
       "      <td>0.0</td>\n",
       "      <td>3.128259</td>\n",
       "      <td>4.373178</td>\n",
       "      <td>0.0</td>\n",
       "      <td>6.198347</td>\n",
       "      <td>1.123596</td>\n",
       "      <td>2.388535</td>\n",
       "    </tr>\n",
       "  </tbody>\n",
       "</table>\n",
       "</div>"
      ],
      "text/plain": [
       "   direct   display     email  organic_search  paid_search  referral    social\n",
       "1     0.0  1.883239  3.344482             0.0     5.555556  0.842460  1.607717\n",
       "2     NaN  2.427184  3.759398             0.0     5.882353  0.941620  1.870907\n",
       "3     0.0  3.128259  4.373178             0.0     6.198347  1.123596  2.388535"
      ]
     },
     "execution_count": 11,
     "metadata": {},
     "output_type": "execute_result"
    }
   ],
   "source": [
    "CAC_last_interaction"
   ]
  },
  {
   "cell_type": "code",
   "execution_count": 12,
   "metadata": {
    "ExecuteTime": {
     "end_time": "2020-11-23T04:27:37.021808Z",
     "start_time": "2020-11-23T04:27:37.012831Z"
    }
   },
   "outputs": [
    {
     "data": {
      "text/html": [
       "<div>\n",
       "<style scoped>\n",
       "    .dataframe tbody tr th:only-of-type {\n",
       "        vertical-align: middle;\n",
       "    }\n",
       "\n",
       "    .dataframe tbody tr th {\n",
       "        vertical-align: top;\n",
       "    }\n",
       "\n",
       "    .dataframe thead th {\n",
       "        text-align: right;\n",
       "    }\n",
       "</style>\n",
       "<table border=\"1\" class=\"dataframe\">\n",
       "  <thead>\n",
       "    <tr style=\"text-align: right;\">\n",
       "      <th></th>\n",
       "      <th>direct</th>\n",
       "      <th>display</th>\n",
       "      <th>email</th>\n",
       "      <th>organic_search</th>\n",
       "      <th>paid_search</th>\n",
       "      <th>referral</th>\n",
       "      <th>social</th>\n",
       "    </tr>\n",
       "  </thead>\n",
       "  <tbody>\n",
       "    <tr>\n",
       "      <th>1</th>\n",
       "      <td>0.0</td>\n",
       "      <td>2.066116</td>\n",
       "      <td>4.065041</td>\n",
       "      <td>NaN</td>\n",
       "      <td>7.812500</td>\n",
       "      <td>0.669792</td>\n",
       "      <td>2.123142</td>\n",
       "    </tr>\n",
       "    <tr>\n",
       "      <th>2</th>\n",
       "      <td>0.0</td>\n",
       "      <td>2.721088</td>\n",
       "      <td>4.651163</td>\n",
       "      <td>0.0</td>\n",
       "      <td>8.097166</td>\n",
       "      <td>0.747943</td>\n",
       "      <td>2.506266</td>\n",
       "    </tr>\n",
       "    <tr>\n",
       "      <th>3</th>\n",
       "      <td>0.0</td>\n",
       "      <td>3.571429</td>\n",
       "      <td>5.093379</td>\n",
       "      <td>0.0</td>\n",
       "      <td>9.316770</td>\n",
       "      <td>0.905524</td>\n",
       "      <td>3.036437</td>\n",
       "    </tr>\n",
       "  </tbody>\n",
       "</table>\n",
       "</div>"
      ],
      "text/plain": [
       "   direct   display     email  organic_search  paid_search  referral    social\n",
       "1     0.0  2.066116  4.065041             NaN     7.812500  0.669792  2.123142\n",
       "2     0.0  2.721088  4.651163             0.0     8.097166  0.747943  2.506266\n",
       "3     0.0  3.571429  5.093379             0.0     9.316770  0.905524  3.036437"
      ]
     },
     "execution_count": 12,
     "metadata": {},
     "output_type": "execute_result"
    }
   ],
   "source": [
    "CAC_first_interaction"
   ]
  },
  {
   "cell_type": "code",
   "execution_count": 13,
   "metadata": {
    "ExecuteTime": {
     "end_time": "2020-11-23T04:27:37.690810Z",
     "start_time": "2020-11-23T04:27:37.682861Z"
    }
   },
   "outputs": [
    {
     "data": {
      "text/html": [
       "<div>\n",
       "<style scoped>\n",
       "    .dataframe tbody tr th:only-of-type {\n",
       "        vertical-align: middle;\n",
       "    }\n",
       "\n",
       "    .dataframe tbody tr th {\n",
       "        vertical-align: top;\n",
       "    }\n",
       "\n",
       "    .dataframe thead th {\n",
       "        text-align: right;\n",
       "    }\n",
       "</style>\n",
       "<table border=\"1\" class=\"dataframe\">\n",
       "  <thead>\n",
       "    <tr style=\"text-align: right;\">\n",
       "      <th></th>\n",
       "      <th>display</th>\n",
       "      <th>email</th>\n",
       "      <th>organic_search</th>\n",
       "      <th>paid_search</th>\n",
       "      <th>referral</th>\n",
       "      <th>social</th>\n",
       "    </tr>\n",
       "  </thead>\n",
       "  <tbody>\n",
       "    <tr>\n",
       "      <th>1</th>\n",
       "      <td>1.883239</td>\n",
       "      <td>3.344482</td>\n",
       "      <td>0.0</td>\n",
       "      <td>5.555556</td>\n",
       "      <td>0.841043</td>\n",
       "      <td>1.607717</td>\n",
       "    </tr>\n",
       "    <tr>\n",
       "      <th>2</th>\n",
       "      <td>2.427184</td>\n",
       "      <td>3.759398</td>\n",
       "      <td>0.0</td>\n",
       "      <td>5.882353</td>\n",
       "      <td>0.941620</td>\n",
       "      <td>1.870907</td>\n",
       "    </tr>\n",
       "    <tr>\n",
       "      <th>3</th>\n",
       "      <td>3.128259</td>\n",
       "      <td>4.373178</td>\n",
       "      <td>0.0</td>\n",
       "      <td>6.198347</td>\n",
       "      <td>1.123175</td>\n",
       "      <td>2.386635</td>\n",
       "    </tr>\n",
       "  </tbody>\n",
       "</table>\n",
       "</div>"
      ],
      "text/plain": [
       "    display     email  organic_search  paid_search  referral    social\n",
       "1  1.883239  3.344482             0.0     5.555556  0.841043  1.607717\n",
       "2  2.427184  3.759398             0.0     5.882353  0.941620  1.870907\n",
       "3  3.128259  4.373178             0.0     6.198347  1.123175  2.386635"
      ]
     },
     "execution_count": 13,
     "metadata": {},
     "output_type": "execute_result"
    }
   ],
   "source": [
    "CAC_last_non_direct_click"
   ]
  },
  {
   "cell_type": "markdown",
   "metadata": {},
   "source": [
    "## Insights"
   ]
  },
  {
   "cell_type": "markdown",
   "metadata": {},
   "source": [
    "### Observations\n",
    "\n",
    "1.Last interaction  \n",
    "\n",
    "In this method, there are two totally free channels: direct and organic_search in which there is no CAC exists. Referral channel has the lowest CAC for all three tiers, following with social, display, email and paid_search. \n",
    "\n",
    "2.First interaction\n",
    "\n",
    "In this method, there are two totally free channels: direct and organic_search in which there is no CAC exists. Referral channel has the lowest CAC for all three tiers; CAC for display channel is the second lowest for tier 1 customers, however, CAC of social channel becomes lower for tier 2 and 3 comparing with display channel. Moreover, email channel has the second highest CAC, just lower than paid_search, which has the highest CAC.\n",
    "\n",
    "\n",
    "3.Last Non-direct Click\n",
    "\n",
    "In this method, there are one free channel: organic_search in which there is no CAC exists since there is no direct channel using this method. Referral channel has the lowest CAC for all three tiers, following with social, email and paid_search. \n",
    "\n",
    "### Potential Conclusions\n",
    "\n",
    "Among all these methods, the referral method is always the most important because not only it is the channel that occupies most customers and but also it is the cheapist among all paid channels, regardless of the tiers.This indicates that we should focus more on this channel to generate higher revenues. At the same time, we find that among all three methods, the number of customers through organic search and direct visit is quite low,so it suggests that we cannot rely on these free channels; instead, we should pay more attention to those paid channels.\n",
    "In addition,(marginal CAC / increase in number of customers) from tier 1 to tier 2 is greatly lower than that from tier 2 to tier 3, indicating that we should invest and focus more on tier 2 customers who could maximize our effectiveness of marketing.\n",
    "\n"
   ]
  },
  {
   "cell_type": "markdown",
   "metadata": {},
   "source": [
    "## We choose Last Interaction method"
   ]
  },
  {
   "cell_type": "markdown",
   "metadata": {},
   "source": [
    "Considering the scenario, in most cases for a clothing business, the main intention of launching campaigns is to drive consumers to buy. Therefore, we choose the last interaction method."
   ]
  },
  {
   "cell_type": "markdown",
   "metadata": {},
   "source": [
    "| Display: Cumulative spend | Cumulative number of conversions | Average CAC | Marginal spend | Marginal Coversion | Marginal CAC\n",
    " :-: | :-: | :-: | :-: | :-: | :-:\n",
    "| 1000 | 531 | 1.88 | 1000 | 531 | 1.88 |\n",
    "| 2000 | 824 | 2.42 | 1000 | 293 | 3.41 |\n",
    "| 3000 | 959 | 3.13 | 1000 | 135 | 7.41 |"
   ]
  },
  {
   "cell_type": "markdown",
   "metadata": {},
   "source": [
    "| Email: Cumulative spend | Cumulative number of conversions | Average CAC | Marginal spend | Marginal Coversion | Marginal CAC |\n",
    " :-: | :-: | :-: | :-: | :-: | :-:\n",
    "| 1000 | 299 | 3.34 | 1000 | 299 | 3.34 |\n",
    "| 2000 | 532 | 3.76 | 1000 | 233 | 4.29 |\n",
    "| 3000 | 686 | 4.37 | 1000 | 154 | 6.49 |"
   ]
  },
  {
   "attachments": {},
   "cell_type": "markdown",
   "metadata": {},
   "source": [
    "| Paid Search: Cumulative spend | Cumulative number of conversions | Average CAC | Marginal spend | Marginal Coversion | Marginal CAC |\n",
    " :-: | :-: | :-: | :-: | :-: | :-:\n",
    "| 1000 | 180 | 5.56 |1000|180|5.56|\n",
    "| 2000 | 340 | 5.88 | 1000 | 160 | 6.25 |\n",
    "| 3000 | 484 | 6.20 | 1000 | 144 | 6.94 |"
   ]
  },
  {
   "cell_type": "markdown",
   "metadata": {},
   "source": [
    "| Referral: Cumulative spend | Cumulative number of conversions | Average CAC | Marginal spend | Marginal Coversion | Marginal CAC |\n",
    " :-: | :-: | :-: | :-: | :-: | :-:\n",
    "| 1000 | 1187 | 0.84 | 1000 | 1187 | 0.84 |\n",
    "| 2000 | 2124 | 0.94 | 1000 | 937 | 1.06 |\n",
    "| 3000 | 2670 | 1.12 | 1000 | 546 | 1.83 |"
   ]
  },
  {
   "attachments": {},
   "cell_type": "markdown",
   "metadata": {},
   "source": [
    "| Social: Cumulative spend | Cumulative number of conversions | Average CAC | Marginal spend | Marginal Coversion | Marginal CAC |\n",
    " :-: | :-: | :-: | :-: | :-: | :-:\n",
    "|1000\t|622\t|1.61\t|1000\t|622\t|1.61|\n",
    "|2000\t|1069\t|1.87\t|1000\t|447\t|2.24|\n",
    "|3000\t|1256\t|2.39\t|1000|\t187\t|5.35|"
   ]
  },
  {
   "cell_type": "markdown",
   "metadata": {},
   "source": [
    "To allocate $11,000 we would like to find out the most valuable combination of without 11 lowest marginal CAC."
   ]
  },
  {
   "cell_type": "markdown",
   "metadata": {},
   "source": [
    " || Display| Email | Paid Search | Referral| Social | \n",
    ":-: | :-: | :-: | :-: | :-: | :-:\n",
    "|Marginal CAC_1\t|1.88\t|3.34\t|5.56\t|0.84\t|1.61|\n",
    "|Marginal CAC_2 |3.41\t|4.29\t|6.25\t|1.07\t|2.24|\n",
    "|Marginal CAC_3\t|7.41\t|6.49\t|6.94   |1.83\t|5.35|"
   ]
  },
  {
   "cell_type": "markdown",
   "metadata": {},
   "source": [
    "We decide to invest 3000 in referral, because Referral has the relative low CAC for all magrinal spend. We decide to invest 2000 dollars in display, 2000 dollars in Email,1000 dollars in Paid Search, 3000 dollars in Social."
   ]
  },
  {
   "cell_type": "markdown",
   "metadata": {},
   "source": [
    " || Display| Email | Paid Search | Referral| Social | \n",
    ":-: | :-: | :-: | :-: | :-: | :-:\n",
    "|First  1000|531\t|299\t|180\t|1187\t|622|\n",
    "|Second 1000|293\t|233\t|       |937\t|447|\n",
    "|Third  1000|    \t|    \t|       |546\t|187|\n",
    "\n"
   ]
  },
  {
   "cell_type": "code",
   "execution_count": null,
   "metadata": {},
   "outputs": [],
   "source": []
  }
 ],
 "metadata": {
  "kernelspec": {
   "display_name": "Python 3",
   "language": "python",
   "name": "python3"
  },
  "language_info": {
   "codemirror_mode": {
    "name": "ipython",
    "version": 3
   },
   "file_extension": ".py",
   "mimetype": "text/x-python",
   "name": "python",
   "nbconvert_exporter": "python",
   "pygments_lexer": "ipython3",
   "version": "3.8.3"
  },
  "toc": {
   "base_numbering": 1,
   "nav_menu": {},
   "number_sections": true,
   "sideBar": true,
   "skip_h1_title": false,
   "title_cell": "Table of Contents",
   "title_sidebar": "Contents",
   "toc_cell": false,
   "toc_position": {
    "height": "calc(100% - 180px)",
    "left": "10px",
    "top": "150px",
    "width": "384px"
   },
   "toc_section_display": true,
   "toc_window_display": true
  },
  "varInspector": {
   "cols": {
    "lenName": 16,
    "lenType": 16,
    "lenVar": 40
   },
   "kernels_config": {
    "python": {
     "delete_cmd_postfix": "",
     "delete_cmd_prefix": "del ",
     "library": "var_list.py",
     "varRefreshCmd": "print(var_dic_list())"
    },
    "r": {
     "delete_cmd_postfix": ") ",
     "delete_cmd_prefix": "rm(",
     "library": "var_list.r",
     "varRefreshCmd": "cat(var_dic_list()) "
    }
   },
   "types_to_exclude": [
    "module",
    "function",
    "builtin_function_or_method",
    "instance",
    "_Feature"
   ],
   "window_display": false
  }
 },
 "nbformat": 4,
 "nbformat_minor": 4
}
